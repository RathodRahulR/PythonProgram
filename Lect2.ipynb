{
  "nbformat": 4,
  "nbformat_minor": 0,
  "metadata": {
    "colab": {
      "name": "Lect2.ipynb",
      "version": "0.3.2",
      "provenance": [],
      "collapsed_sections": [],
      "include_colab_link": true
    },
    "kernelspec": {
      "name": "python3",
      "display_name": "Python 3"
    }
  },
  "cells": [
    {
      "cell_type": "markdown",
      "metadata": {
        "id": "view-in-github",
        "colab_type": "text"
      },
      "source": [
        "<a href=\"https://colab.research.google.com/github/akiwelekar/PythonPrograms/blob/master/Lect2.ipynb\" target=\"_parent\"><img src=\"https://colab.research.google.com/assets/colab-badge.svg\" alt=\"Open In Colab\"/></a>"
      ]
    },
    {
      "cell_type": "code",
      "metadata": {
        "id": "gIEL7hZ4rkDM",
        "colab_type": "code",
        "colab": {}
      },
      "source": [
        ""
      ],
      "execution_count": 0,
      "outputs": []
    },
    {
      "cell_type": "markdown",
      "metadata": {
        "id": "XAjn1tFJrl70",
        "colab_type": "text"
      },
      "source": [
        "# **A program to illustrate the difference between print in python 2 and python 3**"
      ]
    },
    {
      "cell_type": "code",
      "metadata": {
        "id": "HIqiyJK_mCRN",
        "colab_type": "code",
        "colab": {
          "base_uri": "https://localhost:8080/",
          "height": 35
        },
        "outputId": "56b1a386-45c3-4228-edcd-381b4cd548e1"
      },
      "source": [
        "a = 3\n",
        "b =4\n",
        "print(a, b)"
      ],
      "execution_count": 15,
      "outputs": [
        {
          "output_type": "stream",
          "text": [
            "3 4\n"
          ],
          "name": "stdout"
        }
      ]
    },
    {
      "cell_type": "code",
      "metadata": {
        "id": "2ry7EySJmPpT",
        "colab_type": "code",
        "colab": {
          "base_uri": "https://localhost:8080/",
          "height": 54
        },
        "outputId": "4bb72f40-cf03-46ee-bfa5-7feb71ca5b84"
      },
      "source": [
        "a = 3\n",
        "b =4\n",
        "print(a)\n",
        "print(b)"
      ],
      "execution_count": 16,
      "outputs": [
        {
          "output_type": "stream",
          "text": [
            "3\n",
            "4\n"
          ],
          "name": "stdout"
        }
      ]
    },
    {
      "cell_type": "code",
      "metadata": {
        "id": "i_7_Gc-jmZlS",
        "colab_type": "code",
        "colab": {
          "base_uri": "https://localhost:8080/",
          "height": 138
        },
        "outputId": "24b5713d-2350-4c1a-f4c3-1c100feba3f8"
      },
      "source": [
        "a = 3\n",
        "b =4\n",
        "print a, b"
      ],
      "execution_count": 13,
      "outputs": [
        {
          "output_type": "error",
          "ename": "SyntaxError",
          "evalue": "ignored",
          "traceback": [
            "\u001b[0;36m  File \u001b[0;32m\"<ipython-input-13-534a31301ae8>\"\u001b[0;36m, line \u001b[0;32m3\u001b[0m\n\u001b[0;31m    print a, b\u001b[0m\n\u001b[0m          ^\u001b[0m\n\u001b[0;31mSyntaxError\u001b[0m\u001b[0;31m:\u001b[0m Missing parentheses in call to 'print'. Did you mean print(a, b)?\n"
          ]
        }
      ]
    },
    {
      "cell_type": "markdown",
      "metadata": {
        "id": "8YzGFZmQqZid",
        "colab_type": "text"
      },
      "source": [
        "# **A program to convert marks into grades to illustrate the use of if-elif**"
      ]
    },
    {
      "cell_type": "code",
      "metadata": {
        "id": "EU8CVGfvitms",
        "colab_type": "code",
        "colab": {
          "base_uri": "https://localhost:8080/",
          "height": 54
        },
        "outputId": "7b6e4d73-1c3b-4a94-dad9-5d43b89d9024"
      },
      "source": [
        "marks =int (input(\"Enter your marks\"))\n",
        "if marks > 90:\n",
        "  print(\"EX\")\n",
        "elif marks > 80 and  marks < 91 :\n",
        "  print(\"A\")\n",
        "elif marks > 70 and  marks < 81 :\n",
        "  print(\"B\")\n",
        "elif marks > 60 and  marks < 71 :\n",
        "  print(\"C\")\n",
        "elif marks > 50 and  marks < 61 :\n",
        "  print(\"D\")\n",
        "elif marks >= 40 and  marks < 51 :\n",
        "  print(\"E\")\n",
        "elif marks <  40 :\n",
        "  print(\"F\")\n",
        "\n"
      ],
      "execution_count": 14,
      "outputs": [
        {
          "output_type": "stream",
          "text": [
            "Enter your marks25\n",
            "F\n"
          ],
          "name": "stdout"
        }
      ]
    },
    {
      "cell_type": "markdown",
      "metadata": {
        "id": "zfgmzHdUqXPr",
        "colab_type": "text"
      },
      "source": [
        "# **A programm illustrating while loop in python** \n",
        "*Remeber that there is no ++ operator in Python*"
      ]
    },
    {
      "cell_type": "code",
      "metadata": {
        "id": "Ci8u88Ddnx-5",
        "colab_type": "code",
        "colab": {
          "base_uri": "https://localhost:8080/",
          "height": 220
        },
        "outputId": "a2d62ba3-3915-43da-caad-4257fcea0a0a"
      },
      "source": [
        "i=0\n",
        "while i <= 10 :\n",
        "  print(i, i*i)\n",
        "  i+=1"
      ],
      "execution_count": 5,
      "outputs": [
        {
          "output_type": "stream",
          "text": [
            "0 0\n",
            "1 1\n",
            "2 4\n",
            "3 9\n",
            "4 16\n",
            "5 25\n",
            "6 36\n",
            "7 49\n",
            "8 64\n",
            "9 81\n",
            "10 100\n"
          ],
          "name": "stdout"
        }
      ]
    },
    {
      "cell_type": "markdown",
      "metadata": {
        "id": "z5f7tqjMsBVe",
        "colab_type": "text"
      },
      "source": [
        "# **Programs illustrating for loop**"
      ]
    },
    {
      "cell_type": "code",
      "metadata": {
        "id": "Q_ck-BIxpMP9",
        "colab_type": "code",
        "colab": {
          "base_uri": "https://localhost:8080/",
          "height": 201
        },
        "outputId": "34e4bd97-e17b-4473-dbb0-f8297311bca4"
      },
      "source": [
        "for i in range(1,11):\n",
        "  print(i, i*i)"
      ],
      "execution_count": 7,
      "outputs": [
        {
          "output_type": "stream",
          "text": [
            "1 1\n",
            "2 4\n",
            "3 9\n",
            "4 16\n",
            "5 25\n",
            "6 36\n",
            "7 49\n",
            "8 64\n",
            "9 81\n",
            "10 100\n"
          ],
          "name": "stdout"
        }
      ]
    },
    {
      "cell_type": "code",
      "metadata": {
        "id": "xP18Al05pdFG",
        "colab_type": "code",
        "colab": {
          "base_uri": "https://localhost:8080/",
          "height": 109
        },
        "outputId": "5afbdbe8-d468-4d4b-9cdc-f674cbe339d4"
      },
      "source": [
        "for i in range(1,11, 2):\n",
        "  print(i, i*i)"
      ],
      "execution_count": 8,
      "outputs": [
        {
          "output_type": "stream",
          "text": [
            "1 1\n",
            "3 9\n",
            "5 25\n",
            "7 49\n",
            "9 81\n"
          ],
          "name": "stdout"
        }
      ]
    },
    {
      "cell_type": "code",
      "metadata": {
        "id": "CQ-gN854pivK",
        "colab_type": "code",
        "colab": {
          "base_uri": "https://localhost:8080/",
          "height": 201
        },
        "outputId": "9cb42f00-7df1-4287-be97-73750a33277b"
      },
      "source": [
        "for i in range(10,0, -1):\n",
        "  print(i, i*i)"
      ],
      "execution_count": 12,
      "outputs": [
        {
          "output_type": "stream",
          "text": [
            "10 100\n",
            "9 81\n",
            "8 64\n",
            "7 49\n",
            "6 36\n",
            "5 25\n",
            "4 16\n",
            "3 9\n",
            "2 4\n",
            "1 1\n"
          ],
          "name": "stdout"
        }
      ]
    },
    {
      "cell_type": "markdown",
      "metadata": {
        "id": "r9XalO-48Ey8",
        "colab_type": "text"
      },
      "source": [
        "# **Program illustrating use of functions, break and continue**"
      ]
    },
    {
      "cell_type": "code",
      "metadata": {
        "id": "26evGKLcygnd",
        "colab_type": "code",
        "colab": {
          "base_uri": "https://localhost:8080/",
          "height": 109
        },
        "outputId": "e3063bcc-1dd1-4cb9-adf3-5f0ff93dbca4"
      },
      "source": [
        "def isPrime(n):  \n",
        "   p= True\n",
        "   if (n == 1 or n== 2):\n",
        "     return True\n",
        "     i= 2     \n",
        "   for i in range (2, n//2+1):\n",
        "     if n%i == 0:\n",
        "       p= False\n",
        "       break\n",
        "   return p\n",
        "   \n",
        "\n",
        "n = int(input(\"Enter a number \"))\n",
        "\n",
        "for i in range (1,n):\n",
        "  if(isPrime(i)):\n",
        "    continue\n",
        "  print(i, i*i)\n",
        "    \n",
        "  \n",
        "  "
      ],
      "execution_count": 46,
      "outputs": [
        {
          "output_type": "stream",
          "text": [
            "Enter a number 10\n",
            "4 16\n",
            "6 36\n",
            "8 64\n",
            "9 81\n"
          ],
          "name": "stdout"
        }
      ]
    }
  ]
}